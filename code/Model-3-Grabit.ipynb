{
 "cells": [
  {
   "cell_type": "markdown",
   "metadata": {
    "id": "vCnCPQJJOadG"
   },
   "source": [
    "## AML Project : Polish Bankruptcy Data\n",
    "*Algorithm : Gabit*"
   ]
  },
  {
   "cell_type": "code",
   "execution_count": null,
   "metadata": {
    "id": "iWn27R31NuR1"
   },
   "outputs": [],
   "source": [
    "!pip install -U KTBoost &>devnull"
   ]
  },
  {
   "cell_type": "code",
   "execution_count": null,
   "metadata": {
    "id": "bv5jJGR-M8V5"
   },
   "outputs": [],
   "source": [
    "# Import libraries\n",
    "'''Main'''\n",
    "import numpy as np\n",
    "import pandas as pd\n",
    "import os, time\n",
    "\n",
    "'''Data Viz'''\n",
    "import matplotlib.pyplot as plt\n",
    "import matplotlib as mpl\n",
    "import seaborn as sns\n",
    "color = sns.color_palette()\n",
    "%matplotlib inline\n",
    "\n",
    "'''Data Prep and Model Evaluation'''\n",
    "from sklearn import preprocessing as pp\n",
    "from sklearn.model_selection import train_test_split \n",
    "from sklearn.metrics import precision_recall_curve, average_precision_score\n",
    "from sklearn.metrics import roc_curve, auc, roc_auc_score\n",
    "from sklearn.metrics import confusion_matrix,classification_report, ConfusionMatrixDisplay\n",
    "from sklearn.metrics import accuracy_score, precision_score, recall_score, f1_score \n",
    "from sklearn.metrics import roc_curve, plot_confusion_matrix\n",
    "from sklearn.metrics import roc_curve, auc\n",
    "\n",
    "'''Algorithms'''\n",
    "from sklearn.decomposition import PCA\n",
    "from sklearn.cluster import KMeans\n",
    "import KTBoost.KTBoost as KTBoost\n"
   ]
  },
  {
   "cell_type": "markdown",
   "metadata": {
    "id": "S28W6uNlOQSq"
   },
   "source": [
    "<font color= 'blue'>Loading Datasets</font>\n",
    "\n",
    "\n",
    "---\n",
    "\n"
   ]
  },
  {
   "cell_type": "code",
   "execution_count": null,
   "metadata": {
    "colab": {
     "base_uri": "https://localhost:8080/"
    },
    "id": "CcJlA47dOPum",
    "outputId": "74816699-f116-4bd9-9aab-c29dfff73922"
   },
   "outputs": [
    {
     "name": "stdout",
     "output_type": "stream",
     "text": [
      "Drive already mounted at /content/drive; to attempt to forcibly remount, call drive.mount(\"/content/drive\", force_remount=True).\n"
     ]
    }
   ],
   "source": [
    "from google.colab import drive\n",
    "drive.mount('/content/drive')"
   ]
  },
  {
   "cell_type": "code",
   "execution_count": null,
   "metadata": {
    "id": "tVBkHgQnOzce"
   },
   "outputs": [],
   "source": [
    "path = '/content/drive/MyDrive/3. IU Courses/Courses/4. Applied Machine Learning/Project_Shared/Data Folder'"
   ]
  },
  {
   "cell_type": "code",
   "execution_count": null,
   "metadata": {
    "id": "aEVmmr6kPAp2"
   },
   "outputs": [],
   "source": [
    "data_1 = pd.read_excel(os.path.join(path, \"year1.xlsx\"))\n",
    "data_2 = pd.read_excel(os.path.join(path, \"year2.xlsx\"))\n",
    "data_3 = pd.read_excel(os.path.join(path, \"year3.xlsx\"))\n",
    "data_4 = pd.read_excel(os.path.join(path, \"year4.xlsx\"))\n",
    "data_5 = pd.read_excel(os.path.join(path, \"year5.xlsx\"))"
   ]
  },
  {
   "cell_type": "markdown",
   "metadata": {
    "id": "73LxhwJ0PdKn"
   },
   "source": [
    "<font color = 'blue'> Modeling Functions</font>\n",
    "\n",
    "---\n",
    "\n"
   ]
  },
  {
   "cell_type": "code",
   "execution_count": null,
   "metadata": {
    "id": "fy7Az6PVPkvq"
   },
   "outputs": [],
   "source": [
    "def grabit_model (data, scaling_type, test_size):\n",
    "\n",
    "  # Seprating features from class variables\n",
    "  X = data.drop(['class', 'df_year'] , axis = 1)\n",
    "  y = data['class']\n",
    "\n",
    "  X_train, X_test, y_train, y_test = train_test_split(X, y, \n",
    "                                                      test_size = test_size, \n",
    "                                                      random_state = 42, \n",
    "                                                      stratify=y)\n",
    "  # Select scaling type\n",
    "  if scaling_type == \"RobustScaler\":\n",
    "    sc = pp.RobustScaler()\n",
    "  else:\n",
    "    sc = pp.StandardScaler()\n",
    "\n",
    "  X_train = sc.fit_transform(X_train)\n",
    "  X_test = sc.transform(X_test)\n",
    "\n",
    "  # Model Fit\n",
    "  model = KTBoost.BoostingRegressor(loss='tobit', yl = 0, yu = 1, sigma = 1,\n",
    "                                   learning_rate = 0.2, n_estimators = 1000,\n",
    "                                   max_depth = 6)\n",
    "  \n",
    "  model.fit(X_train,y_train)\n",
    "\n",
    "  # Model Prediction\n",
    "  y_pred = model.predict(X_test)\n",
    "  y_pred = [1 if i>=1 else 0 for i in y_pred] # as provided in the underlying paper\n",
    "\n",
    "  return y_test, y_pred"
   ]
  },
  {
   "cell_type": "code",
   "execution_count": null,
   "metadata": {
    "id": "fnKg4ysiS-XR"
   },
   "outputs": [],
   "source": [
    "def performance_metrics(y_testset, y_predicted):\n",
    "  \n",
    "  # Metrics\n",
    "  accuracy = accuracy_score(y_testset, y_predicted)\n",
    " \n",
    "  # precision tp / (tp + fp)\n",
    "  precision = precision_score(y_testset, y_predicted)\n",
    " \n",
    "  # recall: tp / (tp + fn)\n",
    "  recall = recall_score(y_testset, y_predicted)\n",
    " \n",
    "  # f1: 2 tp / (2 tp + fp + fn)\n",
    "  f1 = f1_score(y_testset, y_predicted)\n",
    "  print(f'F1 score: {f1:.5%}')\n",
    "\n",
    "  # AUC\n",
    "  auc = roc_auc_score(y_testset, y_predicted)\n",
    "\n",
    "  return accuracy, precision, recall, f1, auc\n"
   ]
  },
  {
   "cell_type": "code",
   "execution_count": null,
   "metadata": {
    "id": "UKWC4MonURMp"
   },
   "outputs": [],
   "source": [
    "def conf_matrix(y_testset, y_predicted, data_name):\n",
    "  \n",
    "  # Creating Confusion Matrix\n",
    "  cf_matrix = confusion_matrix(y_testset, y_predicted)\n",
    "\n",
    "  fig = plt.gcf()\n",
    "  fig.set_size_inches(9, 6)\n",
    "  ax = sns.heatmap(cf_matrix, annot=True, cmap='Blues', fmt='d')\n",
    "  ax.set_title('Confusion Matrix on Test Set');\n",
    "  ax.set_xlabel('\\nPredicted Values')\n",
    "  ax.set_ylabel('Actual Values ');\n",
    "  plt.show()\n",
    "\n",
    "  return"
   ]
  },
  {
   "cell_type": "code",
   "execution_count": null,
   "metadata": {
    "id": "j15KQgZmNJaw"
   },
   "outputs": [],
   "source": [
    "def plot_roc_curve(test_y, model_prob, n, axes1, auc):\n",
    "  \n",
    "  false_positive_rate, true_positive_rate, thresolds_ = roc_curve(y_testset, model_prob)\n",
    "      \n",
    "  \n",
    "  # plt.figure(figsize=(4, 6), dpi=100)\n",
    "  axes1[n-1].axis('scaled')\n",
    "  axes1[n-1].set_xlim([0, 1])\n",
    "  axes1[n-1].set_ylim([0, 1])\n",
    "  axes1[n-1].plot([0,1], [0,1], linestyle='--',linewidth = 1)\n",
    "  axes1[n-1].plot(false_positive_rate, true_positive_rate, 'lightblue')  \n",
    "  axes1[n-1].fill_between(false_positive_rate, true_positive_rate, facecolor='orange', alpha=0.8)\n",
    "  axes1[n-1].text(0.95, 0.05, 'AUC = %0.4f' % auc, ha='right', fontsize=12, color='black')\n",
    "  axes1[n-1].set_xlabel(\"False Positive Rate\")\n",
    "  axes1[n-1].set_ylabel(\"True Positive Rate\")\n",
    "  axes1[n-1].title.set_text(f'Year{str(n)} - AUC & ROC Curve')\n",
    "  #plt.show()\n",
    "  \n",
    "  return"
   ]
  },
  {
   "cell_type": "markdown",
   "metadata": {
    "id": "5rqv_z4nVK6L"
   },
   "source": [
    "<font color ='blue'> Model Results </font>\n",
    "\n",
    "---\n",
    "\n"
   ]
  },
  {
   "cell_type": "code",
   "execution_count": null,
   "metadata": {
    "id": "mWJGP5-VWp15"
   },
   "outputs": [],
   "source": [
    "# For Summary Results & comparison\n",
    "plot_data = {'Data_Name':[], 'Accuracy': [], \"Precision\": [],\n",
    "             \"Recall\": [], 'F1_score': [], 'Scale_Type': [], 'AUC':[],\n",
    "             'Test_size' : [], 'Model' : [], 'Activation' :[] }"
   ]
  },
  {
   "cell_type": "code",
   "execution_count": 11,
   "metadata": {
    "colab": {
     "base_uri": "https://localhost:8080/",
     "height": 699
    },
    "id": "0WxveGeOVXpY",
    "outputId": "7ed4b4df-236a-4ccd-e573-11f0125a74b0"
   },
   "outputs": [
    {
     "name": "stdout",
     "output_type": "stream",
     "text": [
      "F1 score: 76.59574%\n",
      "F1 score: 49.12281%\n",
      "F1 score: 50.66667%\n",
      "F1 score: 56.41026%\n",
      "F1 score: 71.64179%\n"
     ]
    },
    {
     "data": {
      "image/png": "[encoded data removed]",
      "text/plain": [
       "<Figure size 576x360 with 11 Axes>"
      ]
     },
     "metadata": {
      "needs_background": "light"
     },
     "output_type": "display_data"
    },
    {
     "data": {
      "image/png": "[encoded data removed]",
      "text/plain": [
       "<Figure size 1440x288 with 5 Axes>"
      ]
     },
     "metadata": {
      "needs_background": "light"
     },
     "output_type": "display_data"
    }
   ],
   "source": [
    "datasets = [data_1, data_2, data_3, data_4, data_5]\n",
    "n = 1\n",
    "scaling = \"RobustScaler\"  # StandardScaler\n",
    "test_size = .1\n",
    "i = 0\n",
    "activation = 'none'\n",
    "f, axes = plt.subplots(2, 3, figsize=(8, 5), sharey='row')\n",
    "axes = axes.flatten()\n",
    "f1, axes1 = plt.subplots(1, 5, figsize=(20, 4), sharey='row')\n",
    "for df in datasets:\n",
    "  \n",
    "  data_name = 'Year' + str(n)\n",
    "  y_testset, y_predicted = grabit_model(df, scaling_type = scaling, test_size = test_size)\n",
    "  accuracy, precision, recall, f1, auc = performance_metrics(y_testset, y_predicted)\n",
    "  \n",
    "  plot_data['Data_Name'].append(data_name)\n",
    "  plot_data['Accuracy'].append(accuracy)\n",
    "  plot_data['Precision'].append(precision)\n",
    "  plot_data['Recall'].append(recall)\n",
    "  plot_data['F1_score'].append(f1)\n",
    "  plot_data['Scale_Type'].append(scaling)\n",
    "  plot_data['Test_size'].append(test_size)\n",
    "  plot_data['Model'].append('Grabit') # Change as per model\n",
    "  plot_data['Activation'].append(activation)\n",
    "  plot_data['AUC'].append(auc)\n",
    "  \n",
    "  plot_roc_curve(y_testset, y_predicted, n, axes1, auc)\n",
    "  # print(f'Confusion matrix for dataset {data_name}')\n",
    "  cm = confusion_matrix(y_testset, y_predicted)\n",
    "  cmd = ConfusionMatrixDisplay(cm)\n",
    "  cmd.plot(cmap='Oranges', ax=axes[i])\n",
    "  axes[i].set_title(f'Year{str(n)}-\\nF1 score: {f1:.2%}', fontsize = 10)\n",
    "  axes[5].set_axis_off()\n",
    "    \n",
    "  i+=1\n",
    "  n+=1\n",
    "\n",
    "#f.tight_layout()\n",
    "f.subplots_adjust(hspace=.8)\n",
    "f.subplots_adjust(wspace=0.12)\n",
    "plt.show()"
   ]
  },
  {
   "cell_type": "code",
   "execution_count": 12,
   "metadata": {
    "id": "raUfn7y9dtH3"
   },
   "outputs": [],
   "source": [
    "Performance_numbers = pd.DataFrame(plot_data)"
   ]
  },
  {
   "cell_type": "code",
   "execution_count": 13,
   "metadata": {
    "colab": {
     "base_uri": "https://localhost:8080/",
     "height": 206
    },
    "id": "sEcLrgc_d0w5",
    "outputId": "4f6e26cc-2a48-4f55-a661-04760f70f844"
   },
   "outputs": [
    {
     "data": {
      "text/html": [
       "\n",
       "  <div id=\"df-2db023c2-1e06-4414-8ae3-2d1b91ec0ffd\">\n",
       "    <div class=\"colab-df-container\">\n",
       "      <div>\n",
       "<style scoped>\n",
       "    .dataframe tbody tr th:only-of-type {\n",
       "        vertical-align: middle;\n",
       "    }\n",
       "\n",
       "    .dataframe tbody tr th {\n",
       "        vertical-align: top;\n",
       "    }\n",
       "\n",
       "    .dataframe thead th {\n",
       "        text-align: right;\n",
       "    }\n",
       "</style>\n",
       "<table border=\"1\" class=\"dataframe\">\n",
       "  <thead>\n",
       "    <tr style=\"text-align: right;\">\n",
       "      <th></th>\n",
       "      <th>Data_Name</th>\n",
       "      <th>Accuracy</th>\n",
       "      <th>Precision</th>\n",
       "      <th>Recall</th>\n",
       "      <th>F1_score</th>\n",
       "      <th>Scale_Type</th>\n",
       "      <th>AUC</th>\n",
       "      <th>Test_size</th>\n",
       "      <th>Model</th>\n",
       "      <th>Activation</th>\n",
       "    </tr>\n",
       "  </thead>\n",
       "  <tbody>\n",
       "    <tr>\n",
       "      <th>0</th>\n",
       "      <td>Year1</td>\n",
       "      <td>0.984353</td>\n",
       "      <td>0.900000</td>\n",
       "      <td>0.666667</td>\n",
       "      <td>0.765957</td>\n",
       "      <td>RobustScaler</td>\n",
       "      <td>0.831854</td>\n",
       "      <td>0.1</td>\n",
       "      <td>Grabit</td>\n",
       "      <td>none</td>\n",
       "    </tr>\n",
       "    <tr>\n",
       "      <th>1</th>\n",
       "      <td>Year2</td>\n",
       "      <td>0.971513</td>\n",
       "      <td>0.823529</td>\n",
       "      <td>0.350000</td>\n",
       "      <td>0.491228</td>\n",
       "      <td>RobustScaler</td>\n",
       "      <td>0.673466</td>\n",
       "      <td>0.1</td>\n",
       "      <td>Grabit</td>\n",
       "      <td>none</td>\n",
       "    </tr>\n",
       "    <tr>\n",
       "      <th>2</th>\n",
       "      <td>Year3</td>\n",
       "      <td>0.964795</td>\n",
       "      <td>0.760000</td>\n",
       "      <td>0.380000</td>\n",
       "      <td>0.506667</td>\n",
       "      <td>RobustScaler</td>\n",
       "      <td>0.687003</td>\n",
       "      <td>0.1</td>\n",
       "      <td>Grabit</td>\n",
       "      <td>none</td>\n",
       "    </tr>\n",
       "    <tr>\n",
       "      <th>3</th>\n",
       "      <td>Year4</td>\n",
       "      <td>0.965306</td>\n",
       "      <td>0.846154</td>\n",
       "      <td>0.423077</td>\n",
       "      <td>0.564103</td>\n",
       "      <td>RobustScaler</td>\n",
       "      <td>0.709383</td>\n",
       "      <td>0.1</td>\n",
       "      <td>Grabit</td>\n",
       "      <td>none</td>\n",
       "    </tr>\n",
       "    <tr>\n",
       "      <th>4</th>\n",
       "      <td>Year5</td>\n",
       "      <td>0.967851</td>\n",
       "      <td>0.923077</td>\n",
       "      <td>0.585366</td>\n",
       "      <td>0.716418</td>\n",
       "      <td>RobustScaler</td>\n",
       "      <td>0.790865</td>\n",
       "      <td>0.1</td>\n",
       "      <td>Grabit</td>\n",
       "      <td>none</td>\n",
       "    </tr>\n",
       "  </tbody>\n",
       "</table>\n",
       "</div>\n",
       "      <button class=\"colab-df-convert\" onclick=\"convertToInteractive('df-2db023c2-1e06-4414-8ae3-2d1b91ec0ffd')\"\n",
       "              title=\"Convert this dataframe to an interactive table.\"\n",
       "              style=\"display:none;\">\n",
       "        \n",
       "  <svg xmlns=\"http://www.w3.org/2000/svg\" height=\"24px\"viewBox=\"0 0 24 24\"\n",
       "       width=\"24px\">\n",
       "    <path d=\"M0 0h24v24H0V0z\" fill=\"none\"/>\n",
       "    <path d=\"M18.56 5.44l.94 2.06.94-2.06 2.06-.94-2.06-.94-.94-2.06-.94 2.06-2.06.94zm-11 1L8.5 8.5l.94-2.06 2.06-.94-2.06-.94L8.5 2.5l-.94 2.06-2.06.94zm10 10l.94 2.06.94-2.06 2.06-.94-2.06-.94-.94-2.06-.94 2.06-2.06.94z\"/><path d=\"M17.41 7.96l-1.37-1.37c-.4-.4-.92-.59-1.43-.59-.52 0-1.04.2-1.43.59L10.3 9.45l-7.72 7.72c-.78.78-.78 2.05 0 2.83L4 21.41c.39.39.9.59 1.41.59.51 0 1.02-.2 1.41-.59l7.78-7.78 2.81-2.81c.8-.78.8-2.07 0-2.86zM5.41 20L4 18.59l7.72-7.72 1.47 1.35L5.41 20z\"/>\n",
       "  </svg>\n",
       "      </button>\n",
       "      \n",
       "  <style>\n",
       "    .colab-df-container {\n",
       "      display:flex;\n",
       "      flex-wrap:wrap;\n",
       "      gap: 12px;\n",
       "    }\n",
       "\n",
       "    .colab-df-convert {\n",
       "      background-color: #E8F0FE;\n",
       "      border: none;\n",
       "      border-radius: 50%;\n",
       "      cursor: pointer;\n",
       "      display: none;\n",
       "      fill: #1967D2;\n",
       "      height: 32px;\n",
       "      padding: 0 0 0 0;\n",
       "      width: 32px;\n",
       "    }\n",
       "\n",
       "    .colab-df-convert:hover {\n",
       "      background-color: #E2EBFA;\n",
       "      box-shadow: 0px 1px 2px rgba(60, 64, 67, 0.3), 0px 1px 3px 1px rgba(60, 64, 67, 0.15);\n",
       "      fill: #174EA6;\n",
       "    }\n",
       "\n",
       "    [theme=dark] .colab-df-convert {\n",
       "      background-color: #3B4455;\n",
       "      fill: #D2E3FC;\n",
       "    }\n",
       "\n",
       "    [theme=dark] .colab-df-convert:hover {\n",
       "      background-color: #434B5C;\n",
       "      box-shadow: 0px 1px 3px 1px rgba(0, 0, 0, 0.15);\n",
       "      filter: drop-shadow(0px 1px 2px rgba(0, 0, 0, 0.3));\n",
       "      fill: #FFFFFF;\n",
       "    }\n",
       "  </style>\n",
       "\n",
       "      <script>\n",
       "        const buttonEl =\n",
       "          document.querySelector('#df-2db023c2-1e06-4414-8ae3-2d1b91ec0ffd button.colab-df-convert');\n",
       "        buttonEl.style.display =\n",
       "          google.colab.kernel.accessAllowed ? 'block' : 'none';\n",
       "\n",
       "        async function convertToInteractive(key) {\n",
       "          const element = document.querySelector('#df-2db023c2-1e06-4414-8ae3-2d1b91ec0ffd');\n",
       "          const dataTable =\n",
       "            await google.colab.kernel.invokeFunction('convertToInteractive',\n",
       "                                                     [key], {});\n",
       "          if (!dataTable) return;\n",
       "\n",
       "          const docLinkHtml = 'Like what you see? Visit the ' +\n",
       "            '<a target=\"_blank\" href=https://colab.research.google.com/notebooks/data_table.ipynb>data table notebook</a>'\n",
       "            + ' to learn more about interactive tables.';\n",
       "          element.innerHTML = '';\n",
       "          dataTable['output_type'] = 'display_data';\n",
       "          await google.colab.output.renderOutput(dataTable, element);\n",
       "          const docLink = document.createElement('div');\n",
       "          docLink.innerHTML = docLinkHtml;\n",
       "          element.appendChild(docLink);\n",
       "        }\n",
       "      </script>\n",
       "    </div>\n",
       "  </div>\n",
       "  "
      ],
      "text/plain": [
       "  Data_Name  Accuracy  Precision    Recall  F1_score    Scale_Type       AUC  \\\n",
       "0     Year1  0.984353   0.900000  0.666667  0.765957  RobustScaler  0.831854   \n",
       "1     Year2  0.971513   0.823529  0.350000  0.491228  RobustScaler  0.673466   \n",
       "2     Year3  0.964795   0.760000  0.380000  0.506667  RobustScaler  0.687003   \n",
       "3     Year4  0.965306   0.846154  0.423077  0.564103  RobustScaler  0.709383   \n",
       "4     Year5  0.967851   0.923077  0.585366  0.716418  RobustScaler  0.790865   \n",
       "\n",
       "   Test_size   Model Activation  \n",
       "0        0.1  Grabit       none  \n",
       "1        0.1  Grabit       none  \n",
       "2        0.1  Grabit       none  \n",
       "3        0.1  Grabit       none  \n",
       "4        0.1  Grabit       none  "
      ]
     },
     "execution_count": 13,
     "metadata": {},
     "output_type": "execute_result"
    }
   ],
   "source": [
    "Performance_numbers"
   ]
  },
  {
   "cell_type": "code",
   "execution_count": 14,
   "metadata": {
    "id": "PHXivGh9nTtM"
   },
   "outputs": [],
   "source": [
    "# Change Filename as per model\n",
    "Performance_numbers.to_excel(os.path.join(path, 'Gabit_Results.xlsx')) "
   ]
  }
 ],
 "metadata": {
  "colab": {
   "collapsed_sections": [],
   "name": "Project_Alibaba_Grabit.ipynb",
   "provenance": []
  },
  "kernelspec": {
   "display_name": "Python 3",
   "language": "python",
   "name": "python3"
  },
  "language_info": {
   "codemirror_mode": {
    "name": "ipython",
    "version": 3
   },
   "file_extension": ".py",
   "mimetype": "text/x-python",
   "name": "python",
   "nbconvert_exporter": "python",
   "pygments_lexer": "ipython3",
   "version": "3.9.4"
  }
 },
 "nbformat": 4,
 "nbformat_minor": 1
}
