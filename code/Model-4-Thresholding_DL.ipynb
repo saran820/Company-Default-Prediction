{
  "nbformat": 4,
  "nbformat_minor": 0,
  "metadata": {
    "colab": {
      "name": "Project_Alibaba_Thresholding_DL_v2.ipynb",
      "provenance": [],
      "collapsed_sections": []
    },
    "kernelspec": {
      "name": "python3",
      "display_name": "Python 3"
    },
    "language_info": {
      "name": "python"
    }
  },
  "cells": [
    {
      "cell_type": "markdown",
      "source": [
        "## AML Project : Polish Bankruptcy Data\n",
        "*Algorithm : Thresholding*"
      ],
      "metadata": {
        "id": "vCnCPQJJOadG"
      }
    },
    {
      "cell_type": "code",
      "source": [
        "! pip install plot_utils &>devnull"
      ],
      "metadata": {
        "id": "Gc-JKjU-DOlU"
      },
      "execution_count": 16,
      "outputs": []
    },
    {
      "cell_type": "code",
      "execution_count": 17,
      "metadata": {
        "id": "bv5jJGR-M8V5"
      },
      "outputs": [],
      "source": [
        "# Import libraries\n",
        "'''Main'''\n",
        "import numpy as np\n",
        "import pandas as pd\n",
        "import os, time\n",
        "\n",
        "'''Data Viz'''\n",
        "import matplotlib.pyplot as plt\n",
        "import matplotlib as mpl\n",
        "import seaborn as sns\n",
        "color = sns.color_palette()\n",
        "%matplotlib inline\n",
        "\n",
        "'''Data Prep and Model Evaluation'''\n",
        "from sklearn import preprocessing as pp\n",
        "from sklearn.model_selection import train_test_split \n",
        "from sklearn.metrics import precision_recall_curve, average_precision_score\n",
        "from sklearn.metrics import roc_curve, auc, roc_auc_score\n",
        "from sklearn.metrics import confusion_matrix,classification_report, ConfusionMatrixDisplay\n",
        "from sklearn.metrics import accuracy_score, precision_score, recall_score, f1_score \n",
        "from sklearn.model_selection import StratifiedKFold\n",
        "from sklearn.pipeline import Pipeline\n",
        "\n",
        "'''Algorithms'''\n",
        "from sklearn.linear_model import LogisticRegression\n",
        "from keras.models import Sequential\n",
        "from keras.layers import Dense\n",
        "from keras.wrappers.scikit_learn import KerasClassifier\n",
        "import keras as K\n",
        "import tensorflow as tf\n",
        "\n"
      ]
    },
    {
      "cell_type": "markdown",
      "source": [
        "<font color= 'blue'>Loading Datasets</font>\n",
        "\n",
        "\n",
        "---\n",
        "\n"
      ],
      "metadata": {
        "id": "S28W6uNlOQSq"
      }
    },
    {
      "cell_type": "code",
      "source": [
        "from google.colab import drive\n",
        "drive.mount('/content/drive')"
      ],
      "metadata": {
        "id": "CcJlA47dOPum",
        "colab": {
          "base_uri": "https://localhost:8080/"
        },
        "outputId": "d559dde8-7509-4038-edf9-94a8beded461"
      },
      "execution_count": 18,
      "outputs": [
        {
          "output_type": "stream",
          "name": "stdout",
          "text": [
            "Drive already mounted at /content/drive; to attempt to forcibly remount, call drive.mount(\"/content/drive\", force_remount=True).\n"
          ]
        }
      ]
    },
    {
      "cell_type": "code",
      "source": [
        "path = '/content/drive/MyDrive/3. IU Courses/Courses/4. Applied Machine Learning/Project_Shared/Data Folder'"
      ],
      "metadata": {
        "id": "tVBkHgQnOzce"
      },
      "execution_count": 19,
      "outputs": []
    },
    {
      "cell_type": "code",
      "source": [
        "data_1 = pd.read_excel(os.path.join(path, \"year1.xlsx\"))\n",
        "data_2 = pd.read_excel(os.path.join(path, \"year2.xlsx\"))\n",
        "data_3 = pd.read_excel(os.path.join(path, \"year3.xlsx\"))\n",
        "data_4 = pd.read_excel(os.path.join(path, \"year4.xlsx\"))\n",
        "data_5 = pd.read_excel(os.path.join(path, \"year5.xlsx\"))"
      ],
      "metadata": {
        "id": "aEVmmr6kPAp2"
      },
      "execution_count": 20,
      "outputs": []
    },
    {
      "cell_type": "markdown",
      "source": [
        "<font color = 'blue'> Modeling Functions</font>\n",
        "\n",
        "---\n",
        "\n"
      ],
      "metadata": {
        "id": "73LxhwJ0PdKn"
      }
    },
    {
      "cell_type": "code",
      "source": [
        "def assign_class(predicted_prob, threshold):\n",
        "  label = (predicted_prob>= threshold).astype(int)\n",
        "  return label"
      ],
      "metadata": {
        "id": "YVteFRQrkgIF"
      },
      "execution_count": 21,
      "outputs": []
    },
    {
      "cell_type": "code",
      "source": [
        "def thresholding_model (data, scaling_type, test_size, threshold_list,\n",
        "                        max_epochs, batch_size, activation_func):\n",
        "\n",
        "  # Seprating features from class variables\n",
        "  X = data.drop(['class', 'df_year'] , axis = 1)\n",
        "  y = data['class']\n",
        "\n",
        "  X_train, X_test, y_train, y_test = train_test_split(X, y, \n",
        "                                                      test_size = test_size, \n",
        "                                                      random_state = 42, \n",
        "                                                      stratify=y)\n",
        "  # Select scaling type\n",
        "  if scaling_type == \"RobustScaler\":\n",
        "    sc = pp.RobustScaler()\n",
        "  else:\n",
        "    sc = pp.StandardScaler()\n",
        "\n",
        "  X_train = sc.fit_transform(X_train)\n",
        "  X_test = sc.transform(X_test)\n",
        "  feature_shape = X_train.shape[1]\n",
        "\n",
        "  # Model Fit\n",
        "  my_init = K.initializers.glorot_uniform(seed=1)\n",
        " \n",
        "  model = K.models.Sequential()  \n",
        "  model.add(K.layers.Dense(units=16, input_dim = feature_shape, activation = activation_func, kernel_initializer=my_init)) \n",
        "  model.add(K.layers.Dense(units=16, activation = activation_func , kernel_initializer=my_init))  \n",
        "  model.add(K.layers.Dense(units=1, activation='sigmoid', kernel_initializer=my_init)) \n",
        " \n",
        "  K_optimizer =  tf.keras.optimizers.Adam(learning_rate = 0.01, beta_1 = 0.9, beta_2 = 0.999, amsgrad = False)  \n",
        "  \n",
        "  model.compile(loss='binary_crossentropy', \n",
        "                optimizer = K_optimizer, metrics=[tf.keras.metrics.Recall()]) # tf.keras.metrics.AUC()\n",
        "\n",
        "  model.fit(X_train, y_train, batch_size = batch_size, epochs=max_epochs, verbose=0)\n",
        "\n",
        "  # Model Prediction\n",
        "  \n",
        "  y_prob = model.predict(X_test)   \n",
        "  \n",
        "  scores = [f1_score(y_test, assign_class(y_prob, t)) for t in threshold_list]\n",
        "  \n",
        "  pos_best = np.argmax(scores) # Position of best F1 score  \n",
        "  y_pred = assign_class(y_prob, threshold_list[pos_best])\n",
        "  \n",
        "  return threshold_list[pos_best], y_test, y_pred, y_prob"
      ],
      "metadata": {
        "id": "fy7Az6PVPkvq"
      },
      "execution_count": 22,
      "outputs": []
    },
    {
      "cell_type": "code",
      "source": [
        "def performance_metrics(y_testset, y_predicted):\n",
        "  \n",
        "  # Metrics\n",
        "  accuracy = accuracy_score(y_testset, y_predicted)\n",
        " \n",
        "  # precision tp / (tp + fp)\n",
        "  precision = precision_score(y_testset, y_predicted)\n",
        " \n",
        "  # recall: tp / (tp + fn)\n",
        "  recall = recall_score(y_testset, y_predicted)\n",
        " \n",
        "  # f1: 2 tp / (2 tp + fp + fn)\n",
        "  f1 = f1_score(y_testset, y_predicted) \n",
        "\n",
        "  # AUC\n",
        "  auc = roc_auc_score(y_testset, y_predicted)\n",
        "  \n",
        "  return accuracy, precision, recall, f1, auc\n"
      ],
      "metadata": {
        "id": "fnKg4ysiS-XR"
      },
      "execution_count": 23,
      "outputs": []
    },
    {
      "cell_type": "code",
      "source": [
        "def conf_matrix(y_testset, y_predicted, data_name):\n",
        "  \n",
        "  # Creating Confusion Matrix\n",
        "  cf_matrix = confusion_matrix(y_testset, y_predicted)\n",
        "\n",
        "  fig = plt.gcf()\n",
        "  fig.set_size_inches(9, 6)\n",
        "  ax = sns.heatmap(cf_matrix, annot=True, cmap='Blues', fmt='d')\n",
        "  ax.set_title('Confusion Matrix on Test Set');\n",
        "  ax.set_xlabel('\\nPredicted Values')\n",
        "  ax.set_ylabel('Actual Values ');\n",
        "  plt.show()\n",
        "\n",
        "  return"
      ],
      "metadata": {
        "id": "UKWC4MonURMp"
      },
      "execution_count": 24,
      "outputs": []
    },
    {
      "cell_type": "code",
      "source": [
        "def plot_roc_curve(y_testset, model_prob, n, axes1, auc):\n",
        "  \n",
        "  false_positive_rate, true_positive_rate, thresolds_ = roc_curve(y_testset, model_prob)\n",
        "      \n",
        "  \n",
        "  #plt.figure(figsize=(4, 6), dpi=100)\n",
        "  axes1[n-1].axis('scaled')\n",
        "  axes1[n-1].set_xlim([0, 1])\n",
        "  axes1[n-1].set_ylim([0, 1])\n",
        "  axes1[n-1].plot([0,1], [0,1], linestyle='--',linewidth = 1)\n",
        "  axes1[n-1].plot(false_positive_rate, true_positive_rate, 'lightblue')  \n",
        "  axes1[n-1].fill_between(false_positive_rate, true_positive_rate, facecolor='orange', alpha=0.8)\n",
        "  axes1[n-1].text(0.95, 0.05, 'AUC = %0.4f' % auc, ha='right', fontsize=12, color='black')\n",
        "  axes1[n-1].set_xlabel(\"False Positive Rate\")\n",
        "  axes1[n-1].set_ylabel(\"True Positive Rate\")\n",
        "  axes1[n-1].title.set_text(f'Year{str(n)} - AUC & ROC Curve')\n",
        "  \n",
        "  #plt.show()\n",
        "  \n",
        "  return"
      ],
      "metadata": {
        "id": "j15KQgZmNJaw"
      },
      "execution_count": 25,
      "outputs": []
    },
    {
      "cell_type": "markdown",
      "source": [
        "<font color ='blue'> Model Results </font>\n",
        "\n",
        "---\n",
        "\n"
      ],
      "metadata": {
        "id": "5rqv_z4nVK6L"
      }
    },
    {
      "cell_type": "code",
      "source": [
        "# For Summary Results & comparison\n",
        "plot_data = {'Data_Name':[], 'Accuracy': [], \"Precision\": [],\n",
        "             \"Recall\": [], 'F1_score': [], 'Scale_Type': [], 'AUC':[],\n",
        "             'Test_size' : [], 'Model' : [], 'Activation' :[] }"
      ],
      "metadata": {
        "id": "mWJGP5-VWp15"
      },
      "execution_count": 26,
      "outputs": []
    },
    {
      "cell_type": "code",
      "source": [
        "# Input Values\n",
        "\n",
        "datasets = [data_1, data_2, data_3, data_4, data_5]\n",
        "n = 1\n",
        "\n",
        "# Hyperparameters\n",
        "scaling = \"RobustScaler\" # [\"RobustScaler\" , \"StandardScaler\"]\n",
        "test_size = .1\n",
        "thresholds = np.arange(0, 1, 0.001)\n",
        "Model = \"Thresholding\"\n",
        "epochs, batch = 1000, 100\n",
        "activation = 'tanh' #['relu', 'tanh']\n",
        "i = 0\n",
        "f, axes = plt.subplots(2, 3, figsize=(8, 5), sharey='row')\n",
        "axes = axes.flatten()\n",
        "f1, axes1 = plt.subplots(1, 5, figsize=(20, 4), sharey='row')\n",
        "\n",
        "for df in datasets:\n",
        " \n",
        "  data_name = 'Year' + str(n) \n",
        "  threshold, y_testset, y_predicted, y_prob = thresholding_model(df,scaling_type = scaling, \n",
        "                                                         test_size = test_size, \n",
        "                                                         threshold_list = thresholds, \n",
        "                                                         max_epochs = epochs,\n",
        "                                                         batch_size = batch,\n",
        "                                                         activation_func = activation)\n",
        "  \n",
        "  accuracy, precision, recall, f1, auc = performance_metrics(y_testset, y_predicted)\n",
        "  \n",
        "  plot_data['Data_Name'].append(data_name)\n",
        "  plot_data['Accuracy'].append(accuracy)\n",
        "  plot_data['Precision'].append(precision)\n",
        "  plot_data['Recall'].append(recall)\n",
        "  plot_data['F1_score'].append(f1)\n",
        "  plot_data['Scale_Type'].append(scaling)\n",
        "  plot_data['Test_size'].append(test_size)\n",
        "  plot_data['Model'].append('Thresholding') # Change as per model\n",
        "  plot_data['Activation'].append(activation)\n",
        "  plot_data['AUC'].append(auc)\n",
        "\n",
        "  #print(f'Confusion matrix for dataset {data_name}')\n",
        "  #print(f'Threshold: {threshold} F1 score: {f1:.5%}')\n",
        "  plot_roc_curve(y_testset, y_predicted, n, axes1, auc)\n",
        "  # conf_matrix(y_testset, y_predicted, data_name = data_name)\n",
        "  cm = confusion_matrix(y_testset, y_predicted)\n",
        "  cmd = ConfusionMatrixDisplay(cm)\n",
        "  cmd.plot(cmap='Oranges', ax=axes[i])\n",
        "  # axes[i].title.set_text(f'Year{str(n)} - Threshold:{np.round(threshold,4)}\\n F1 score: {f1:.2%}')\n",
        "  axes[i].set_title(f'Year{str(n)} - Threshold:{np.round(threshold,4)}\\n F1 score: {f1:.2%}', fontsize = 10)\n",
        "  axes[5].set_axis_off()\n",
        "  i+=1\n",
        "  n+=1\n",
        "#f.tight_layout()\n",
        "f.subplots_adjust(hspace=.8)\n",
        "f.subplots_adjust(wspace=0.12)\n",
        "plt.show()\n",
        "  "
      ],
      "metadata": {
        "id": "0WxveGeOVXpY",
        "colab": {
          "base_uri": "https://localhost:8080/",
          "height": 612
        },
        "outputId": "d988a926-d5da-4ec5-c3c5-e0397985127c"
      },
      "execution_count": 27,
      "outputs": [
        {
          "output_type": "display_data",
          "data": {
            "text/plain": [
              "<Figure size 576x360 with 11 Axes>"
            ],
            "image/png": "[encoded data removed]"
          },
          "metadata": {
            "needs_background": "light"
          }
        },
        {
          "output_type": "display_data",
          "data": {
            "text/plain": [
              "<Figure size 1440x288 with 5 Axes>"
            ],
            "image/png": "[encoded data removed]"
          },
          "metadata": {
            "needs_background": "light"
          }
        }
      ]
    },
    {
      "cell_type": "code",
      "source": [
        "Performance_numbers = pd.DataFrame(plot_data)"
      ],
      "metadata": {
        "id": "raUfn7y9dtH3"
      },
      "execution_count": 28,
      "outputs": []
    },
    {
      "cell_type": "code",
      "source": [
        "Performance_numbers"
      ],
      "metadata": {
        "id": "sEcLrgc_d0w5",
        "colab": {
          "base_uri": "https://localhost:8080/",
          "height": 206
        },
        "outputId": "be5b026a-4da1-402e-ffa1-03f293ee08d2"
      },
      "execution_count": 29,
      "outputs": [
        {
          "output_type": "execute_result",
          "data": {
            "text/plain": [
              "  Data_Name  Accuracy  Precision    Recall  F1_score    Scale_Type       AUC  \\\n",
              "0     Year1  0.775249   0.103030  0.629630  0.177083  RobustScaler  0.705347   \n",
              "1     Year2  0.863458   0.122137  0.400000  0.187135  RobustScaler  0.641207   \n",
              "2     Year3  0.908658   0.197368  0.300000  0.238095  RobustScaler  0.619530   \n",
              "3     Year4  0.918367   0.240741  0.250000  0.245283  RobustScaler  0.602909   \n",
              "4     Year5  0.900169   0.350000  0.512195  0.415842  RobustScaler  0.720643   \n",
              "\n",
              "   Test_size         Model Activation  \n",
              "0        0.1  Thresholding       tanh  \n",
              "1        0.1  Thresholding       tanh  \n",
              "2        0.1  Thresholding       tanh  \n",
              "3        0.1  Thresholding       tanh  \n",
              "4        0.1  Thresholding       tanh  "
            ],
            "text/html": [
              "\n",
              "  <div id=\"df-6eafee1e-5638-4495-a1ab-1a45ed264a2f\">\n",
              "    <div class=\"colab-df-container\">\n",
              "      <div>\n",
              "<style scoped>\n",
              "    .dataframe tbody tr th:only-of-type {\n",
              "        vertical-align: middle;\n",
              "    }\n",
              "\n",
              "    .dataframe tbody tr th {\n",
              "        vertical-align: top;\n",
              "    }\n",
              "\n",
              "    .dataframe thead th {\n",
              "        text-align: right;\n",
              "    }\n",
              "</style>\n",
              "<table border=\"1\" class=\"dataframe\">\n",
              "  <thead>\n",
              "    <tr style=\"text-align: right;\">\n",
              "      <th></th>\n",
              "      <th>Data_Name</th>\n",
              "      <th>Accuracy</th>\n",
              "      <th>Precision</th>\n",
              "      <th>Recall</th>\n",
              "      <th>F1_score</th>\n",
              "      <th>Scale_Type</th>\n",
              "      <th>AUC</th>\n",
              "      <th>Test_size</th>\n",
              "      <th>Model</th>\n",
              "      <th>Activation</th>\n",
              "    </tr>\n",
              "  </thead>\n",
              "  <tbody>\n",
              "    <tr>\n",
              "      <th>0</th>\n",
              "      <td>Year1</td>\n",
              "      <td>0.775249</td>\n",
              "      <td>0.103030</td>\n",
              "      <td>0.629630</td>\n",
              "      <td>0.177083</td>\n",
              "      <td>RobustScaler</td>\n",
              "      <td>0.705347</td>\n",
              "      <td>0.1</td>\n",
              "      <td>Thresholding</td>\n",
              "      <td>tanh</td>\n",
              "    </tr>\n",
              "    <tr>\n",
              "      <th>1</th>\n",
              "      <td>Year2</td>\n",
              "      <td>0.863458</td>\n",
              "      <td>0.122137</td>\n",
              "      <td>0.400000</td>\n",
              "      <td>0.187135</td>\n",
              "      <td>RobustScaler</td>\n",
              "      <td>0.641207</td>\n",
              "      <td>0.1</td>\n",
              "      <td>Thresholding</td>\n",
              "      <td>tanh</td>\n",
              "    </tr>\n",
              "    <tr>\n",
              "      <th>2</th>\n",
              "      <td>Year3</td>\n",
              "      <td>0.908658</td>\n",
              "      <td>0.197368</td>\n",
              "      <td>0.300000</td>\n",
              "      <td>0.238095</td>\n",
              "      <td>RobustScaler</td>\n",
              "      <td>0.619530</td>\n",
              "      <td>0.1</td>\n",
              "      <td>Thresholding</td>\n",
              "      <td>tanh</td>\n",
              "    </tr>\n",
              "    <tr>\n",
              "      <th>3</th>\n",
              "      <td>Year4</td>\n",
              "      <td>0.918367</td>\n",
              "      <td>0.240741</td>\n",
              "      <td>0.250000</td>\n",
              "      <td>0.245283</td>\n",
              "      <td>RobustScaler</td>\n",
              "      <td>0.602909</td>\n",
              "      <td>0.1</td>\n",
              "      <td>Thresholding</td>\n",
              "      <td>tanh</td>\n",
              "    </tr>\n",
              "    <tr>\n",
              "      <th>4</th>\n",
              "      <td>Year5</td>\n",
              "      <td>0.900169</td>\n",
              "      <td>0.350000</td>\n",
              "      <td>0.512195</td>\n",
              "      <td>0.415842</td>\n",
              "      <td>RobustScaler</td>\n",
              "      <td>0.720643</td>\n",
              "      <td>0.1</td>\n",
              "      <td>Thresholding</td>\n",
              "      <td>tanh</td>\n",
              "    </tr>\n",
              "  </tbody>\n",
              "</table>\n",
              "</div>\n",
              "      <button class=\"colab-df-convert\" onclick=\"convertToInteractive('df-6eafee1e-5638-4495-a1ab-1a45ed264a2f')\"\n",
              "              title=\"Convert this dataframe to an interactive table.\"\n",
              "              style=\"display:none;\">\n",
              "        \n",
              "  <svg xmlns=\"http://www.w3.org/2000/svg\" height=\"24px\"viewBox=\"0 0 24 24\"\n",
              "       width=\"24px\">\n",
              "    <path d=\"M0 0h24v24H0V0z\" fill=\"none\"/>\n",
              "    <path d=\"M18.56 5.44l.94 2.06.94-2.06 2.06-.94-2.06-.94-.94-2.06-.94 2.06-2.06.94zm-11 1L8.5 8.5l.94-2.06 2.06-.94-2.06-.94L8.5 2.5l-.94 2.06-2.06.94zm10 10l.94 2.06.94-2.06 2.06-.94-2.06-.94-.94-2.06-.94 2.06-2.06.94z\"/><path d=\"M17.41 7.96l-1.37-1.37c-.4-.4-.92-.59-1.43-.59-.52 0-1.04.2-1.43.59L10.3 9.45l-7.72 7.72c-.78.78-.78 2.05 0 2.83L4 21.41c.39.39.9.59 1.41.59.51 0 1.02-.2 1.41-.59l7.78-7.78 2.81-2.81c.8-.78.8-2.07 0-2.86zM5.41 20L4 18.59l7.72-7.72 1.47 1.35L5.41 20z\"/>\n",
              "  </svg>\n",
              "      </button>\n",
              "      \n",
              "  <style>\n",
              "    .colab-df-container {\n",
              "      display:flex;\n",
              "      flex-wrap:wrap;\n",
              "      gap: 12px;\n",
              "    }\n",
              "\n",
              "    .colab-df-convert {\n",
              "      background-color: #E8F0FE;\n",
              "      border: none;\n",
              "      border-radius: 50%;\n",
              "      cursor: pointer;\n",
              "      display: none;\n",
              "      fill: #1967D2;\n",
              "      height: 32px;\n",
              "      padding: 0 0 0 0;\n",
              "      width: 32px;\n",
              "    }\n",
              "\n",
              "    .colab-df-convert:hover {\n",
              "      background-color: #E2EBFA;\n",
              "      box-shadow: 0px 1px 2px rgba(60, 64, 67, 0.3), 0px 1px 3px 1px rgba(60, 64, 67, 0.15);\n",
              "      fill: #174EA6;\n",
              "    }\n",
              "\n",
              "    [theme=dark] .colab-df-convert {\n",
              "      background-color: #3B4455;\n",
              "      fill: #D2E3FC;\n",
              "    }\n",
              "\n",
              "    [theme=dark] .colab-df-convert:hover {\n",
              "      background-color: #434B5C;\n",
              "      box-shadow: 0px 1px 3px 1px rgba(0, 0, 0, 0.15);\n",
              "      filter: drop-shadow(0px 1px 2px rgba(0, 0, 0, 0.3));\n",
              "      fill: #FFFFFF;\n",
              "    }\n",
              "  </style>\n",
              "\n",
              "      <script>\n",
              "        const buttonEl =\n",
              "          document.querySelector('#df-6eafee1e-5638-4495-a1ab-1a45ed264a2f button.colab-df-convert');\n",
              "        buttonEl.style.display =\n",
              "          google.colab.kernel.accessAllowed ? 'block' : 'none';\n",
              "\n",
              "        async function convertToInteractive(key) {\n",
              "          const element = document.querySelector('#df-6eafee1e-5638-4495-a1ab-1a45ed264a2f');\n",
              "          const dataTable =\n",
              "            await google.colab.kernel.invokeFunction('convertToInteractive',\n",
              "                                                     [key], {});\n",
              "          if (!dataTable) return;\n",
              "\n",
              "          const docLinkHtml = 'Like what you see? Visit the ' +\n",
              "            '<a target=\"_blank\" href=https://colab.research.google.com/notebooks/data_table.ipynb>data table notebook</a>'\n",
              "            + ' to learn more about interactive tables.';\n",
              "          element.innerHTML = '';\n",
              "          dataTable['output_type'] = 'display_data';\n",
              "          await google.colab.output.renderOutput(dataTable, element);\n",
              "          const docLink = document.createElement('div');\n",
              "          docLink.innerHTML = docLinkHtml;\n",
              "          element.appendChild(docLink);\n",
              "        }\n",
              "      </script>\n",
              "    </div>\n",
              "  </div>\n",
              "  "
            ]
          },
          "metadata": {},
          "execution_count": 29
        }
      ]
    },
    {
      "cell_type": "code",
      "source": [
        "# Change Filename as per model\n",
        "Performance_numbers.to_excel(os.path.join(path, 'Thresholding_Results.xlsx'), index=False) "
      ],
      "metadata": {
        "id": "PHXivGh9nTtM"
      },
      "execution_count": 30,
      "outputs": []
    }
  ]
}