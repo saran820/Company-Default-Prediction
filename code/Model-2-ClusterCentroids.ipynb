{
 "cells": [
  {
   "cell_type": "markdown",
   "id": "128c2b95",
   "metadata": {
    "id": "128c2b95"
   },
   "source": [
    "## AML Project : Polish Bankruptcy Data\n",
    "*Algorithm : Cluster Centroid*"
   ]
  },
  {
   "cell_type": "code",
   "execution_count": 1,
   "id": "74b35127",
   "metadata": {
    "id": "74b35127"
   },
   "outputs": [],
   "source": [
    "# Import libraries\n",
    "'''Main'''\n",
    "from scipy.io import arff\n",
    "import numpy as np\n",
    "import pandas as pd\n",
    "import os, time\n",
    "\n",
    "'''Data Viz'''\n",
    "import matplotlib.pyplot as plt\n",
    "import matplotlib as mpl\n",
    "import seaborn as sns\n",
    "color = sns.color_palette()\n",
    "%matplotlib inline\n",
    "\n",
    "'''Data Prep and Model Evaluation'''\n",
    "from sklearn import preprocessing as pp\n",
    "from sklearn.model_selection import train_test_split \n",
    "from sklearn.metrics import precision_recall_curve, average_precision_score\n",
    "from sklearn.metrics import roc_curve, auc, roc_auc_score\n",
    "from sklearn.metrics import confusion_matrix,classification_report, ConfusionMatrixDisplay\n",
    "from sklearn.metrics import accuracy_score, precision_score, recall_score, f1_score \n",
    "from sklearn.metrics import roc_curve\n",
    "from sklearn.metrics import roc_curve, auc\n",
    "\n",
    "'''Algorithms'''\n",
    "from imblearn.under_sampling import ClusterCentroids\n",
    "from sklearn.ensemble import RandomForestClassifier"
   ]
  },
  {
   "cell_type": "markdown",
   "id": "104d5662",
   "metadata": {
    "id": "104d5662"
   },
   "source": [
    "<font color= 'blue'>Loading Datasets</font>\n",
    "\n",
    "\n",
    "---\n",
    "\n"
   ]
  },
  {
   "cell_type": "code",
   "execution_count": 2,
   "id": "AtnqTXCqKVwE",
   "metadata": {
    "colab": {
     "base_uri": "https://localhost:8080/"
    },
    "id": "AtnqTXCqKVwE",
    "outputId": "74b436c2-8e4d-458f-d972-f3442dbdad2d"
   },
   "outputs": [
    {
     "name": "stdout",
     "output_type": "stream",
     "text": [
      "Mounted at /content/drive\n"
     ]
    }
   ],
   "source": [
    "from google.colab import drive\n",
    "drive.mount('/content/drive')"
   ]
  },
  {
   "cell_type": "code",
   "execution_count": 3,
   "id": "Hmv4ao8lKVSm",
   "metadata": {
    "id": "Hmv4ao8lKVSm"
   },
   "outputs": [],
   "source": [
    "path = '/content/drive/MyDrive/3. IU Courses/Courses/4. Applied Machine Learning/Project_Shared/Data Folder'"
   ]
  },
  {
   "cell_type": "code",
   "execution_count": 4,
   "id": "CcJlA47dOPum",
   "metadata": {
    "id": "CcJlA47dOPum"
   },
   "outputs": [],
   "source": [
    "data_1 = pd.read_excel(os.path.join(path, \"year1.xlsx\"))\n",
    "data_2 = pd.read_excel(os.path.join(path, \"year2.xlsx\"))\n",
    "data_3 = pd.read_excel(os.path.join(path, \"year3.xlsx\"))\n",
    "data_4 = pd.read_excel(os.path.join(path, \"year4.xlsx\"))\n",
    "data_5 = pd.read_excel(os.path.join(path, \"year5.xlsx\"))"
   ]
  },
  {
   "cell_type": "markdown",
   "id": "eaafb13b",
   "metadata": {
    "id": "eaafb13b"
   },
   "source": [
    "<font color = 'blue'> Modeling Functions</font>\n",
    "\n",
    "---\n",
    "\n"
   ]
  },
  {
   "cell_type": "code",
   "execution_count": 5,
   "id": "5a229fb6",
   "metadata": {
    "id": "5a229fb6"
   },
   "outputs": [],
   "source": [
    "def nearMiss_model (data, scaling_type, test_size):\n",
    "    # Seperating features from class variables\n",
    "    X = data.drop(['class', 'df_year'] , axis = 1)\n",
    "    y = data['class']\n",
    "\n",
    "    X_train, X_test, y_train, y_test = train_test_split(X, y, \n",
    "                                                      test_size = test_size, \n",
    "                                                      random_state = 42, \n",
    "                                                      stratify=y)\n",
    "  # Select scaling type\n",
    "    if scaling_type == \"RobustScaler\":\n",
    "        sc = pp.RobustScaler()\n",
    "    else:\n",
    "        sc = pp.StandardScaler()\n",
    "\n",
    "    X_train = sc.fit_transform(X_train)\n",
    "    X_test = sc.transform(X_test)\n",
    "\n",
    "    \n",
    "    cc = ClusterCentroids(sampling_strategy=0.2) \n",
    "    X_cluster, y_cluster = cc.fit_resample(X_train, y_train) \n",
    "    \n",
    "    print(y_cluster.value_counts())\n",
    "    \n",
    "  # Model Fit\n",
    "    model = RandomForestClassifier(n_estimators= 700)\n",
    "  \n",
    "    model.fit(X_cluster,y_cluster)\n",
    "\n",
    "  # Model Prediction\n",
    "    y_pred = model.predict(X_test)\n",
    "    y_pred = [1 if i>=1 else 0 for i in y_pred] # as provides in the underlying paper\n",
    "\n",
    "    return y_test, y_pred"
   ]
  },
  {
   "cell_type": "code",
   "execution_count": 6,
   "id": "c7191386",
   "metadata": {
    "id": "c7191386"
   },
   "outputs": [],
   "source": [
    "def performance_metrics(y_testset, y_predicted):\n",
    "    # Metrics\n",
    "    accuracy = accuracy_score(y_testset, y_predicted)\n",
    " \n",
    "    # precision tp / (tp + fp)\n",
    "    precision = precision_score(y_testset, y_predicted)\n",
    " \n",
    "    # recall: tp / (tp + fn)\n",
    "    recall = recall_score(y_testset, y_predicted)\n",
    " \n",
    "    # f1: 2 tp / (2 tp + fp + fn)\n",
    "    f1 = f1_score(y_testset, y_predicted)\n",
    "    print(f'F1 score: {f1:.5%}')\n",
    "    \n",
    "    # AUC\n",
    "    auc = roc_auc_score(y_testset, y_predicted)\n",
    "\n",
    "    return accuracy, precision, recall, f1, auc\n"
   ]
  },
  {
   "cell_type": "code",
   "execution_count": 7,
   "id": "de5272f7",
   "metadata": {
    "id": "de5272f7"
   },
   "outputs": [],
   "source": [
    "def conf_matrix(y_testset, y_predicted, data_name):\n",
    "  \n",
    "    # Creating Confusion Matrix\n",
    "    cf_matrix = confusion_matrix(y_testset, y_predicted)\n",
    "\n",
    "    fig = plt.gcf()\n",
    "    fig.set_size_inches(9, 6)\n",
    "    ax = sns.heatmap(cf_matrix, annot=True, cmap='Blues', fmt='d')\n",
    "    ax.set_title('Confusion Matrix on Test Set');\n",
    "    ax.set_xlabel('\\nPredicted Values')\n",
    "    ax.set_ylabel('Actual Values ');\n",
    "    plt.show()\n",
    "\n",
    "    return"
   ]
  },
  {
   "cell_type": "code",
   "execution_count": 8,
   "id": "eb0a841c",
   "metadata": {
    "id": "eb0a841c"
   },
   "outputs": [],
   "source": [
    "def plot_roc_curve(test_y, model_prob, n, axes1, auc):\n",
    "  \n",
    "  false_positive_rate, true_positive_rate, thresolds_ = roc_curve(y_testset, model_prob)\n",
    "      \n",
    "  \n",
    "  # plt.figure(figsize=(4, 6), dpi=100)\n",
    "  axes1[n-1].axis('scaled')\n",
    "  axes1[n-1].set_xlim([0, 1])\n",
    "  axes1[n-1].set_ylim([0, 1])\n",
    "  axes1[n-1].plot([0,1], [0,1], linestyle='--',linewidth = 1)\n",
    "  axes1[n-1].plot(false_positive_rate, true_positive_rate, 'lightblue')  \n",
    "  axes1[n-1].fill_between(false_positive_rate, true_positive_rate, facecolor='orange', alpha=0.8)\n",
    "  axes1[n-1].text(0.95, 0.05, 'AUC = %0.4f' % auc, ha='right', fontsize=12, color='black')\n",
    "  axes1[n-1].set_xlabel(\"False Positive Rate\")\n",
    "  axes1[n-1].set_ylabel(\"True Positive Rate\")\n",
    "  axes1[n-1].title.set_text(f'Year{str(n)} - AUC & ROC Curve')\n",
    "  #plt.show()\n",
    "  \n",
    "  return"
   ]
  },
  {
   "cell_type": "markdown",
   "id": "68d579d9",
   "metadata": {
    "id": "68d579d9"
   },
   "source": [
    "<font color ='blue'> Model Results </font>\n",
    "\n",
    "---\n",
    "\n"
   ]
  },
  {
   "cell_type": "code",
   "execution_count": 9,
   "id": "b8eae355",
   "metadata": {
    "id": "b8eae355"
   },
   "outputs": [],
   "source": [
    "# For Summary Results & comparison\n",
    "plot_data = {'Data_Name':[], 'Accuracy': [], \"Precision\": [],\n",
    "             \"Recall\": [], 'F1_score': [], 'Scale_Type': [], \n",
    "             'AUC': [],'Test_size' : [], 'Model' : [], 'Activation' :[] }"
   ]
  },
  {
   "cell_type": "code",
   "execution_count": 10,
   "id": "87bc551f",
   "metadata": {
    "colab": {
     "base_uri": "https://localhost:8080/",
     "height": 959
    },
    "id": "87bc551f",
    "outputId": "0baa74a7-82e0-4bc8-8017-99f4f0036e85"
   },
   "outputs": [
    {
     "name": "stdout",
     "output_type": "stream",
     "text": [
      "0    1220\n",
      "1     244\n",
      "Name: class, dtype: int64\n",
      "F1 score: 42.62295%\n",
      "0    1800\n",
      "1     360\n",
      "Name: class, dtype: int64\n",
      "F1 score: 24.24242%\n",
      "0    2225\n",
      "1     445\n",
      "Name: class, dtype: int64\n",
      "F1 score: 34.28571%\n",
      "0    2315\n",
      "1     463\n",
      "Name: class, dtype: int64\n",
      "F1 score: 20.40816%\n",
      "0    1845\n",
      "1     369\n",
      "Name: class, dtype: int64\n",
      "F1 score: 40.62500%\n"
     ]
    },
    {
     "data": {
      "image/png": "[encoded data removed]",
      "text/plain": [
       "<Figure size 576x360 with 11 Axes>"
      ]
     },
     "metadata": {
      "needs_background": "light"
     },
     "output_type": "display_data"
    },
    {
     "data": {
      "image/png": "[encoded data removed]",
      "text/plain": [
       "<Figure size 1440x288 with 5 Axes>"
      ]
     },
     "metadata": {
      "needs_background": "light"
     },
     "output_type": "display_data"
    }
   ],
   "source": [
    "datasets = [data_1, data_2, data_3, data_4, data_5]\n",
    "n = 1\n",
    "scaling = \"RobustScaler\"  # StandardScaler\n",
    "test_size = .1\n",
    "i = 0\n",
    "activation = 'none'\n",
    "f, axes = plt.subplots(2, 3, figsize=(8, 5), sharey='row')\n",
    "axes = axes.flatten()\n",
    "f1, axes1 = plt.subplots(1, 5, figsize=(20, 4), sharey='row')\n",
    "axes = axes.flatten()\n",
    "for df in datasets:\n",
    "    data_name = 'Year' + str(n)\n",
    "    y_testset, y_predicted = nearMiss_model(df, scaling_type = scaling, test_size = test_size)\n",
    "    accuracy, precision, recall, f1, auc= performance_metrics(y_testset, y_predicted)\n",
    "  \n",
    "    plot_data['Data_Name'].append(data_name)\n",
    "    plot_data['Accuracy'].append(accuracy)\n",
    "    plot_data['Precision'].append(precision)\n",
    "    plot_data['Recall'].append(recall)\n",
    "    plot_data['F1_score'].append(f1)\n",
    "    plot_data['Scale_Type'].append(scaling)\n",
    "    plot_data['AUC'].append(auc)\n",
    "    plot_data['Test_size'].append(test_size)\n",
    "    plot_data['Model'].append('Cluster Centroids') # Change as per model\n",
    "    plot_data['Activation'].append(activation)\n",
    "\n",
    "    plot_roc_curve(y_testset, y_predicted, n, axes1, auc)\n",
    "    # print(f'Confusion matrix for dataset {data_name}')\n",
    "    cm = confusion_matrix(y_testset, y_predicted)\n",
    "    cmd = ConfusionMatrixDisplay(cm)\n",
    "    cmd.plot(cmap='Oranges', ax=axes[i])\n",
    "    axes[i].set_title(f'Year{str(n)}-\\nF1 score: {f1:.2%}', fontsize = 10)\n",
    "    axes[5].set_axis_off()\n",
    "    \n",
    "    i+=1\n",
    "    n+=1\n",
    "\n",
    "#f.tight_layout()\n",
    "f.subplots_adjust(hspace=.8)\n",
    "f.subplots_adjust(wspace=0.12)\n",
    "plt.show()"
   ]
  },
  {
   "cell_type": "code",
   "execution_count": 11,
   "id": "16b92e47",
   "metadata": {
    "id": "16b92e47"
   },
   "outputs": [],
   "source": [
    "Performance_numbers = pd.DataFrame(plot_data)"
   ]
  },
  {
   "cell_type": "code",
   "execution_count": 12,
   "id": "8dbef515",
   "metadata": {
    "colab": {
     "base_uri": "https://localhost:8080/",
     "height": 206
    },
    "id": "8dbef515",
    "outputId": "16581a3a-3846-41be-9a43-9678eb6a7145"
   },
   "outputs": [
    {
     "data": {
      "text/html": [
       "\n",
       "  <div id=\"df-7764fa2f-7942-46cf-a315-51928928bc89\">\n",
       "    <div class=\"colab-df-container\">\n",
       "      <div>\n",
       "<style scoped>\n",
       "    .dataframe tbody tr th:only-of-type {\n",
       "        vertical-align: middle;\n",
       "    }\n",
       "\n",
       "    .dataframe tbody tr th {\n",
       "        vertical-align: top;\n",
       "    }\n",
       "\n",
       "    .dataframe thead th {\n",
       "        text-align: right;\n",
       "    }\n",
       "</style>\n",
       "<table border=\"1\" class=\"dataframe\">\n",
       "  <thead>\n",
       "    <tr style=\"text-align: right;\">\n",
       "      <th></th>\n",
       "      <th>Data_Name</th>\n",
       "      <th>Accuracy</th>\n",
       "      <th>Precision</th>\n",
       "      <th>Recall</th>\n",
       "      <th>F1_score</th>\n",
       "      <th>Scale_Type</th>\n",
       "      <th>AUC</th>\n",
       "      <th>Test_size</th>\n",
       "      <th>Model</th>\n",
       "      <th>Activation</th>\n",
       "    </tr>\n",
       "  </thead>\n",
       "  <tbody>\n",
       "    <tr>\n",
       "      <th>0</th>\n",
       "      <td>Year1</td>\n",
       "      <td>0.950213</td>\n",
       "      <td>0.382353</td>\n",
       "      <td>0.481481</td>\n",
       "      <td>0.426230</td>\n",
       "      <td>RobustScaler</td>\n",
       "      <td>0.725208</td>\n",
       "      <td>0.1</td>\n",
       "      <td>Cluster Centroids</td>\n",
       "      <td>none</td>\n",
       "    </tr>\n",
       "    <tr>\n",
       "      <th>1</th>\n",
       "      <td>Year2</td>\n",
       "      <td>0.926326</td>\n",
       "      <td>0.203390</td>\n",
       "      <td>0.300000</td>\n",
       "      <td>0.242424</td>\n",
       "      <td>RobustScaler</td>\n",
       "      <td>0.625971</td>\n",
       "      <td>0.1</td>\n",
       "      <td>Cluster Centroids</td>\n",
       "      <td>none</td>\n",
       "    </tr>\n",
       "    <tr>\n",
       "      <th>2</th>\n",
       "      <td>Year3</td>\n",
       "      <td>0.934348</td>\n",
       "      <td>0.327273</td>\n",
       "      <td>0.360000</td>\n",
       "      <td>0.342857</td>\n",
       "      <td>RobustScaler</td>\n",
       "      <td>0.661518</td>\n",
       "      <td>0.1</td>\n",
       "      <td>Cluster Centroids</td>\n",
       "      <td>none</td>\n",
       "    </tr>\n",
       "    <tr>\n",
       "      <th>3</th>\n",
       "      <td>Year4</td>\n",
       "      <td>0.920408</td>\n",
       "      <td>0.217391</td>\n",
       "      <td>0.192308</td>\n",
       "      <td>0.204082</td>\n",
       "      <td>RobustScaler</td>\n",
       "      <td>0.576757</td>\n",
       "      <td>0.1</td>\n",
       "      <td>Cluster Centroids</td>\n",
       "      <td>none</td>\n",
       "    </tr>\n",
       "    <tr>\n",
       "      <th>4</th>\n",
       "      <td>Year5</td>\n",
       "      <td>0.935702</td>\n",
       "      <td>0.565217</td>\n",
       "      <td>0.317073</td>\n",
       "      <td>0.406250</td>\n",
       "      <td>RobustScaler</td>\n",
       "      <td>0.649446</td>\n",
       "      <td>0.1</td>\n",
       "      <td>Cluster Centroids</td>\n",
       "      <td>none</td>\n",
       "    </tr>\n",
       "  </tbody>\n",
       "</table>\n",
       "</div>\n",
       "      <button class=\"colab-df-convert\" onclick=\"convertToInteractive('df-7764fa2f-7942-46cf-a315-51928928bc89')\"\n",
       "              title=\"Convert this dataframe to an interactive table.\"\n",
       "              style=\"display:none;\">\n",
       "        \n",
       "  <svg xmlns=\"http://www.w3.org/2000/svg\" height=\"24px\"viewBox=\"0 0 24 24\"\n",
       "       width=\"24px\">\n",
       "    <path d=\"M0 0h24v24H0V0z\" fill=\"none\"/>\n",
       "    <path d=\"M18.56 5.44l.94 2.06.94-2.06 2.06-.94-2.06-.94-.94-2.06-.94 2.06-2.06.94zm-11 1L8.5 8.5l.94-2.06 2.06-.94-2.06-.94L8.5 2.5l-.94 2.06-2.06.94zm10 10l.94 2.06.94-2.06 2.06-.94-2.06-.94-.94-2.06-.94 2.06-2.06.94z\"/><path d=\"M17.41 7.96l-1.37-1.37c-.4-.4-.92-.59-1.43-.59-.52 0-1.04.2-1.43.59L10.3 9.45l-7.72 7.72c-.78.78-.78 2.05 0 2.83L4 21.41c.39.39.9.59 1.41.59.51 0 1.02-.2 1.41-.59l7.78-7.78 2.81-2.81c.8-.78.8-2.07 0-2.86zM5.41 20L4 18.59l7.72-7.72 1.47 1.35L5.41 20z\"/>\n",
       "  </svg>\n",
       "      </button>\n",
       "      \n",
       "  <style>\n",
       "    .colab-df-container {\n",
       "      display:flex;\n",
       "      flex-wrap:wrap;\n",
       "      gap: 12px;\n",
       "    }\n",
       "\n",
       "    .colab-df-convert {\n",
       "      background-color: #E8F0FE;\n",
       "      border: none;\n",
       "      border-radius: 50%;\n",
       "      cursor: pointer;\n",
       "      display: none;\n",
       "      fill: #1967D2;\n",
       "      height: 32px;\n",
       "      padding: 0 0 0 0;\n",
       "      width: 32px;\n",
       "    }\n",
       "\n",
       "    .colab-df-convert:hover {\n",
       "      background-color: #E2EBFA;\n",
       "      box-shadow: 0px 1px 2px rgba(60, 64, 67, 0.3), 0px 1px 3px 1px rgba(60, 64, 67, 0.15);\n",
       "      fill: #174EA6;\n",
       "    }\n",
       "\n",
       "    [theme=dark] .colab-df-convert {\n",
       "      background-color: #3B4455;\n",
       "      fill: #D2E3FC;\n",
       "    }\n",
       "\n",
       "    [theme=dark] .colab-df-convert:hover {\n",
       "      background-color: #434B5C;\n",
       "      box-shadow: 0px 1px 3px 1px rgba(0, 0, 0, 0.15);\n",
       "      filter: drop-shadow(0px 1px 2px rgba(0, 0, 0, 0.3));\n",
       "      fill: #FFFFFF;\n",
       "    }\n",
       "  </style>\n",
       "\n",
       "      <script>\n",
       "        const buttonEl =\n",
       "          document.querySelector('#df-7764fa2f-7942-46cf-a315-51928928bc89 button.colab-df-convert');\n",
       "        buttonEl.style.display =\n",
       "          google.colab.kernel.accessAllowed ? 'block' : 'none';\n",
       "\n",
       "        async function convertToInteractive(key) {\n",
       "          const element = document.querySelector('#df-7764fa2f-7942-46cf-a315-51928928bc89');\n",
       "          const dataTable =\n",
       "            await google.colab.kernel.invokeFunction('convertToInteractive',\n",
       "                                                     [key], {});\n",
       "          if (!dataTable) return;\n",
       "\n",
       "          const docLinkHtml = 'Like what you see? Visit the ' +\n",
       "            '<a target=\"_blank\" href=https://colab.research.google.com/notebooks/data_table.ipynb>data table notebook</a>'\n",
       "            + ' to learn more about interactive tables.';\n",
       "          element.innerHTML = '';\n",
       "          dataTable['output_type'] = 'display_data';\n",
       "          await google.colab.output.renderOutput(dataTable, element);\n",
       "          const docLink = document.createElement('div');\n",
       "          docLink.innerHTML = docLinkHtml;\n",
       "          element.appendChild(docLink);\n",
       "        }\n",
       "      </script>\n",
       "    </div>\n",
       "  </div>\n",
       "  "
      ],
      "text/plain": [
       "  Data_Name  Accuracy  Precision    Recall  F1_score    Scale_Type       AUC  \\\n",
       "0     Year1  0.950213   0.382353  0.481481  0.426230  RobustScaler  0.725208   \n",
       "1     Year2  0.926326   0.203390  0.300000  0.242424  RobustScaler  0.625971   \n",
       "2     Year3  0.934348   0.327273  0.360000  0.342857  RobustScaler  0.661518   \n",
       "3     Year4  0.920408   0.217391  0.192308  0.204082  RobustScaler  0.576757   \n",
       "4     Year5  0.935702   0.565217  0.317073  0.406250  RobustScaler  0.649446   \n",
       "\n",
       "   Test_size              Model Activation  \n",
       "0        0.1  Cluster Centroids       none  \n",
       "1        0.1  Cluster Centroids       none  \n",
       "2        0.1  Cluster Centroids       none  \n",
       "3        0.1  Cluster Centroids       none  \n",
       "4        0.1  Cluster Centroids       none  "
      ]
     },
     "execution_count": 12,
     "metadata": {},
     "output_type": "execute_result"
    }
   ],
   "source": [
    "Performance_numbers"
   ]
  },
  {
   "cell_type": "code",
   "execution_count": 13,
   "id": "15aaddd2",
   "metadata": {
    "id": "15aaddd2"
   },
   "outputs": [],
   "source": [
    "# Change Filename as per model\n",
    "Performance_numbers.to_excel(os.path.join(path,'ClusterCentroids_Results.xlsx'), index = False) "
   ]
  }
 ],
 "metadata": {
  "colab": {
   "collapsed_sections": [],
   "name": "Alibaba_ClusterCentroids.ipynb",
   "provenance": []
  },
  "kernelspec": {
   "display_name": "Python 3",
   "language": "python",
   "name": "python3"
  },
  "language_info": {
   "codemirror_mode": {
    "name": "ipython",
    "version": 3
   },
   "file_extension": ".py",
   "mimetype": "text/x-python",
   "name": "python",
   "nbconvert_exporter": "python",
   "pygments_lexer": "ipython3",
   "version": "3.9.4"
  }
 },
 "nbformat": 4,
 "nbformat_minor": 5
}
